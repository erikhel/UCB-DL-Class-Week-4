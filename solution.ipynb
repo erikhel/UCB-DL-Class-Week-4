{
 "cells": [
  {
   "cell_type": "markdown",
   "id": "66fc80a9",
   "metadata": {},
   "source": [
    "# UCB Intro to Deep Learning, Week 4 Assignment - Kaggle competition on NLP Disaster Tweets\n",
    "\n",
    "## GitHub link https://github.com/erikhel/UCB-DL-Class-Week-4"
   ]
  },
  {
   "cell_type": "code",
   "execution_count": 1,
   "id": "7f1f1d7a",
   "metadata": {},
   "outputs": [],
   "source": [
    "import keras\n",
    "from keras import layers\n",
    "import tensorflow as tf\n",
    "from tensorflow.keras.layers import TextVectorization\n",
    "\n",
    "from nltk.corpus import stopwords\n",
    "\n",
    "import numpy as np\n",
    "import pandas as pd\n",
    "from sklearn.model_selection import train_test_split\n",
    "\n",
    "import seaborn as sns\n",
    "import matplotlib.pyplot as plt"
   ]
  },
  {
   "cell_type": "code",
   "execution_count": 2,
   "id": "7fdc2a97",
   "metadata": {},
   "outputs": [],
   "source": [
    "sns.set(font_scale=1.5)\n",
    "sns.set_style('white')\n",
    "#plt.rcParams['figure.figsize']=(10,5)"
   ]
  },
  {
   "cell_type": "markdown",
   "id": "32747eae",
   "metadata": {},
   "source": [
    "# Step 1: Brief description of the problem and data\n",
    "\n",
    "The task binary classification whether a tweet is about a real disaster (label 1) or not (label 0).\n",
    "\n",
    "Data structure: Rows of\n",
    "* [id] Tweet unique id\n",
    "* [text] Tweet text\n",
    "* [keyword] A tweet keyword, which may be blank (NaN)\n",
    "* [location] Source location, which may be blank (NaN)\n",
    "* [target] Label, 1: Disaster, 0: No disaster. Only in training data.\n",
    "\n",
    "Data content:\n",
    "* Training (labeled) data has 7613 tweets, which are between 7 and 157 characters in length. Keyword and location are null in, respectively, 61 and 2,533 tweets.\n",
    "* Test (unlabeled) data has 3,262 tweets, which are between 5 and 151 characters in length. Keyword and location are null in, respectively, 26 and 1,105 tweets.\n",
    "* So, we have a keyword most of the time (99% of tweets have non-null keyword) while location is mostly missing (33-34% of tweets have non-null keyword)."
   ]
  },
  {
   "cell_type": "code",
   "execution_count": 3,
   "id": "493d7af7",
   "metadata": {},
   "outputs": [
    {
     "name": "stdout",
     "output_type": "stream",
     "text": [
      "<class 'pandas.core.frame.DataFrame'>\n",
      "RangeIndex: 7613 entries, 0 to 7612\n",
      "Data columns (total 5 columns):\n",
      " #   Column    Non-Null Count  Dtype \n",
      "---  ------    --------------  ----- \n",
      " 0   id        7613 non-null   int64 \n",
      " 1   keyword   7552 non-null   object\n",
      " 2   location  5080 non-null   object\n",
      " 3   text      7613 non-null   object\n",
      " 4   target    7613 non-null   int64 \n",
      "dtypes: int64(2), object(3)\n",
      "memory usage: 297.5+ KB\n",
      "None\n"
     ]
    },
    {
     "data": {
      "text/html": [
       "<div>\n",
       "<style scoped>\n",
       "    .dataframe tbody tr th:only-of-type {\n",
       "        vertical-align: middle;\n",
       "    }\n",
       "\n",
       "    .dataframe tbody tr th {\n",
       "        vertical-align: top;\n",
       "    }\n",
       "\n",
       "    .dataframe thead th {\n",
       "        text-align: right;\n",
       "    }\n",
       "</style>\n",
       "<table border=\"1\" class=\"dataframe\">\n",
       "  <thead>\n",
       "    <tr style=\"text-align: right;\">\n",
       "      <th></th>\n",
       "      <th>id</th>\n",
       "      <th>keyword</th>\n",
       "      <th>location</th>\n",
       "      <th>text</th>\n",
       "      <th>target</th>\n",
       "    </tr>\n",
       "  </thead>\n",
       "  <tbody>\n",
       "    <tr>\n",
       "      <th>0</th>\n",
       "      <td>1</td>\n",
       "      <td>NaN</td>\n",
       "      <td>NaN</td>\n",
       "      <td>Our Deeds are the Reason of this #earthquake M...</td>\n",
       "      <td>1</td>\n",
       "    </tr>\n",
       "    <tr>\n",
       "      <th>1</th>\n",
       "      <td>4</td>\n",
       "      <td>NaN</td>\n",
       "      <td>NaN</td>\n",
       "      <td>Forest fire near La Ronge Sask. Canada</td>\n",
       "      <td>1</td>\n",
       "    </tr>\n",
       "    <tr>\n",
       "      <th>2</th>\n",
       "      <td>5</td>\n",
       "      <td>NaN</td>\n",
       "      <td>NaN</td>\n",
       "      <td>All residents asked to 'shelter in place' are ...</td>\n",
       "      <td>1</td>\n",
       "    </tr>\n",
       "    <tr>\n",
       "      <th>3</th>\n",
       "      <td>6</td>\n",
       "      <td>NaN</td>\n",
       "      <td>NaN</td>\n",
       "      <td>13,000 people receive #wildfires evacuation or...</td>\n",
       "      <td>1</td>\n",
       "    </tr>\n",
       "    <tr>\n",
       "      <th>4</th>\n",
       "      <td>7</td>\n",
       "      <td>NaN</td>\n",
       "      <td>NaN</td>\n",
       "      <td>Just got sent this photo from Ruby #Alaska as ...</td>\n",
       "      <td>1</td>\n",
       "    </tr>\n",
       "  </tbody>\n",
       "</table>\n",
       "</div>"
      ],
      "text/plain": [
       "   id keyword location                                               text  \\\n",
       "0   1     NaN      NaN  Our Deeds are the Reason of this #earthquake M...   \n",
       "1   4     NaN      NaN             Forest fire near La Ronge Sask. Canada   \n",
       "2   5     NaN      NaN  All residents asked to 'shelter in place' are ...   \n",
       "3   6     NaN      NaN  13,000 people receive #wildfires evacuation or...   \n",
       "4   7     NaN      NaN  Just got sent this photo from Ruby #Alaska as ...   \n",
       "\n",
       "   target  \n",
       "0       1  \n",
       "1       1  \n",
       "2       1  \n",
       "3       1  \n",
       "4       1  "
      ]
     },
     "execution_count": 3,
     "metadata": {},
     "output_type": "execute_result"
    }
   ],
   "source": [
    "df_train = pd.read_csv('train.csv')\n",
    "print(df_train.info())\n",
    "df_train.head()"
   ]
  },
  {
   "cell_type": "code",
   "execution_count": 4,
   "id": "58b34359",
   "metadata": {},
   "outputs": [
    {
     "name": "stdout",
     "output_type": "stream",
     "text": [
      "Training: 7613 tweets between 7 and 157 length. Null keyword in 61 tweets, null location in 2533 tweets.\n"
     ]
    }
   ],
   "source": [
    "print('Training: {} tweets between {} and {} length. Null keyword in {} tweets, null location in {} tweets.'.format(\n",
    "          df_train.shape[0],\n",
    "          df_train.text.str.len().min(),\n",
    "          df_train.text.str.len().max(),\n",
    "          df_train.keyword.isna().sum(),\n",
    "          df_train.location.isna().sum()))"
   ]
  },
  {
   "cell_type": "code",
   "execution_count": 5,
   "id": "0a2a8645",
   "metadata": {},
   "outputs": [
    {
     "name": "stdout",
     "output_type": "stream",
     "text": [
      "<class 'pandas.core.frame.DataFrame'>\n",
      "RangeIndex: 3263 entries, 0 to 3262\n",
      "Data columns (total 4 columns):\n",
      " #   Column    Non-Null Count  Dtype \n",
      "---  ------    --------------  ----- \n",
      " 0   id        3263 non-null   int64 \n",
      " 1   keyword   3237 non-null   object\n",
      " 2   location  2158 non-null   object\n",
      " 3   text      3263 non-null   object\n",
      "dtypes: int64(1), object(3)\n",
      "memory usage: 102.1+ KB\n",
      "None\n"
     ]
    },
    {
     "data": {
      "text/html": [
       "<div>\n",
       "<style scoped>\n",
       "    .dataframe tbody tr th:only-of-type {\n",
       "        vertical-align: middle;\n",
       "    }\n",
       "\n",
       "    .dataframe tbody tr th {\n",
       "        vertical-align: top;\n",
       "    }\n",
       "\n",
       "    .dataframe thead th {\n",
       "        text-align: right;\n",
       "    }\n",
       "</style>\n",
       "<table border=\"1\" class=\"dataframe\">\n",
       "  <thead>\n",
       "    <tr style=\"text-align: right;\">\n",
       "      <th></th>\n",
       "      <th>id</th>\n",
       "      <th>keyword</th>\n",
       "      <th>location</th>\n",
       "      <th>text</th>\n",
       "    </tr>\n",
       "  </thead>\n",
       "  <tbody>\n",
       "    <tr>\n",
       "      <th>0</th>\n",
       "      <td>0</td>\n",
       "      <td>NaN</td>\n",
       "      <td>NaN</td>\n",
       "      <td>Just happened a terrible car crash</td>\n",
       "    </tr>\n",
       "    <tr>\n",
       "      <th>1</th>\n",
       "      <td>2</td>\n",
       "      <td>NaN</td>\n",
       "      <td>NaN</td>\n",
       "      <td>Heard about #earthquake is different cities, s...</td>\n",
       "    </tr>\n",
       "    <tr>\n",
       "      <th>2</th>\n",
       "      <td>3</td>\n",
       "      <td>NaN</td>\n",
       "      <td>NaN</td>\n",
       "      <td>there is a forest fire at spot pond, geese are...</td>\n",
       "    </tr>\n",
       "    <tr>\n",
       "      <th>3</th>\n",
       "      <td>9</td>\n",
       "      <td>NaN</td>\n",
       "      <td>NaN</td>\n",
       "      <td>Apocalypse lighting. #Spokane #wildfires</td>\n",
       "    </tr>\n",
       "    <tr>\n",
       "      <th>4</th>\n",
       "      <td>11</td>\n",
       "      <td>NaN</td>\n",
       "      <td>NaN</td>\n",
       "      <td>Typhoon Soudelor kills 28 in China and Taiwan</td>\n",
       "    </tr>\n",
       "  </tbody>\n",
       "</table>\n",
       "</div>"
      ],
      "text/plain": [
       "   id keyword location                                               text\n",
       "0   0     NaN      NaN                 Just happened a terrible car crash\n",
       "1   2     NaN      NaN  Heard about #earthquake is different cities, s...\n",
       "2   3     NaN      NaN  there is a forest fire at spot pond, geese are...\n",
       "3   9     NaN      NaN           Apocalypse lighting. #Spokane #wildfires\n",
       "4  11     NaN      NaN      Typhoon Soudelor kills 28 in China and Taiwan"
      ]
     },
     "execution_count": 5,
     "metadata": {},
     "output_type": "execute_result"
    }
   ],
   "source": [
    "df_test = pd.read_csv('test.csv')\n",
    "print(df_test.info())\n",
    "df_test.head()"
   ]
  },
  {
   "cell_type": "code",
   "execution_count": 6,
   "id": "d515649c",
   "metadata": {},
   "outputs": [
    {
     "name": "stdout",
     "output_type": "stream",
     "text": [
      "Test: 3263 tweets between 5 and 151 length. Null keyword in 26 tweets, null location in 1105 tweets.\n"
     ]
    }
   ],
   "source": [
    "print('Test: {} tweets between {} and {} length. Null keyword in {} tweets, null location in {} tweets.'.format(\n",
    "          df_test.shape[0],\n",
    "          df_test.text.str.len().min(),\n",
    "          df_test.text.str.len().max(),\n",
    "          df_test.keyword.isna().sum(),\n",
    "          df_test.location.isna().sum()))"
   ]
  },
  {
   "cell_type": "markdown",
   "id": "ae7a9fc8",
   "metadata": {},
   "source": [
    "# Step 2: Exploratory Data Analysis (EDA) — Inspect, Visualize and Clean the Data\n",
    "\n",
    "Training data classes are fairly balanced (57%:43% for 0:1 labels). Tweet length distribution differ slightly between classes in that non-disaster tweets tend to be shorter. The peaks are close to the early tweet limit of 128 characters. The number of words are similary distributed across labels with a flat denisty around 10-20 words.\n",
    "\n",
    "From previous section we know that all tweets (training and test) have nonzero length and there are null values in keyword (null prevalence 1%) and location (null prevalence 66-67%).\n",
    "\n",
    "Considering these are real-world tweets, it can be expected that a lot of cleaning may be required. The following cleaning steps are performed here:\n",
    "1. Remove duplicate tweets with inconsistent labels\n",
    "2. Commonize case (e.g., lowercase) and remove punctuation (by keras preprocessing layer)\n",
    "\n",
    "Cleaning should be done carefully not to destroy potentially useful information. For example, a common cleaning procedure is to take out common \"stop words\". However, that may destroy the meaning of the tweet. Using ntlk (demonstrate below), the sentence \"there is no disaster here\" turns into \"disaster\". Therefore, it was decided not to remover stop words.\n",
    "\n",
    "Browsing Kaggle, there are many additional cleaning procedures that may be attempted. These were not pursued here for the sake of time. Some examples:\n",
    "1. Remove numbers\n",
    "2. Remove URLs \n",
    "3. Replace emojis with words or remove\n",
    "4. Commonize abbreviations\n",
    "5. Correct spelling\n",
    "6. Stemming and lematization"
   ]
  },
  {
   "cell_type": "markdown",
   "id": "ee4f532c",
   "metadata": {},
   "source": [
    "## Inspect and visualize data"
   ]
  },
  {
   "cell_type": "code",
   "execution_count": 7,
   "id": "d0ac3fdf",
   "metadata": {},
   "outputs": [
    {
     "data": {
      "text/html": [
       "<div>\n",
       "<style scoped>\n",
       "    .dataframe tbody tr th:only-of-type {\n",
       "        vertical-align: middle;\n",
       "    }\n",
       "\n",
       "    .dataframe tbody tr th {\n",
       "        vertical-align: top;\n",
       "    }\n",
       "\n",
       "    .dataframe thead th {\n",
       "        text-align: right;\n",
       "    }\n",
       "</style>\n",
       "<table border=\"1\" class=\"dataframe\">\n",
       "  <thead>\n",
       "    <tr style=\"text-align: right;\">\n",
       "      <th></th>\n",
       "      <th>Proportion %</th>\n",
       "    </tr>\n",
       "    <tr>\n",
       "      <th>target</th>\n",
       "      <th></th>\n",
       "    </tr>\n",
       "  </thead>\n",
       "  <tbody>\n",
       "    <tr>\n",
       "      <th>0</th>\n",
       "      <td>57.034021</td>\n",
       "    </tr>\n",
       "    <tr>\n",
       "      <th>1</th>\n",
       "      <td>42.965979</td>\n",
       "    </tr>\n",
       "  </tbody>\n",
       "</table>\n",
       "</div>"
      ],
      "text/plain": [
       "        Proportion %\n",
       "target              \n",
       "0          57.034021\n",
       "1          42.965979"
      ]
     },
     "execution_count": 7,
     "metadata": {},
     "output_type": "execute_result"
    },
    {
     "data": {
      "image/png": "[encoded data removed]",
      "text/plain": [
       "<Figure size 432x288 with 1 Axes>"
      ]
     },
     "metadata": {
      "needs_background": "light"
     },
     "output_type": "display_data"
    }
   ],
   "source": [
    "cats = df_train.target.unique()\n",
    "ncats = len(cats)\n",
    "df_count = df_train[['id','target']].groupby('target').count()\n",
    "df_count.plot.bar()\n",
    "(100*df_count/df_train.shape[0]).rename(columns={'id': 'Proportion %'})"
   ]
  },
  {
   "cell_type": "code",
   "execution_count": 8,
   "id": "35c37fa0",
   "metadata": {},
   "outputs": [
    {
     "data": {
      "image/png": "[encoded data removed]",
      "text/plain": [
       "<Figure size 432x288 with 1 Axes>"
      ]
     },
     "metadata": {
      "needs_background": "light"
     },
     "output_type": "display_data"
    }
   ],
   "source": [
    "f,ax = plt.subplots()\n",
    "for cat,df in df_train[['text','target']].groupby('target'):\n",
    "    #df.text.str.len().hist(ax=ax,bins=np.arange(0,160,10), label=f'Label {cat}', alpha=0.5)\n",
    "    df.text.str.len().plot.kde(ax=ax,label=f'Label {cat}')\n",
    "plt.xlabel('Tweet length')\n",
    "plt.xlim(0,170)\n",
    "plt.legend(); plt.grid(); plt.show()"
   ]
  },
  {
   "cell_type": "code",
   "execution_count": 9,
   "id": "1b17d4a0",
   "metadata": {},
   "outputs": [
    {
     "data": {
      "image/png": "[encoded data removed]",
      "text/plain": [
       "<Figure size 432x288 with 1 Axes>"
      ]
     },
     "metadata": {
      "needs_background": "light"
     },
     "output_type": "display_data"
    }
   ],
   "source": [
    "f,ax = plt.subplots()\n",
    "for cat,df in df_train[['text','target']].groupby('target'):\n",
    "    df.text.apply(lambda x: len(x.split())).plot.kde(ax=ax,label=f'Label {cat}')\n",
    "plt.xlabel('Number of words')\n",
    "plt.xlim(0,30)\n",
    "plt.legend(); plt.grid(); plt.show()"
   ]
  },
  {
   "cell_type": "markdown",
   "id": "da8cd509",
   "metadata": {},
   "source": [
    "## Remove duplicate tweets with inconsistent labels"
   ]
  },
  {
   "cell_type": "code",
   "execution_count": 10,
   "id": "4541421a",
   "metadata": {},
   "outputs": [],
   "source": [
    "df_dup = df_train[['text','target']].groupby('text').nunique()\n",
    "df_dup = df_dup[df_dup.target > 1]"
   ]
  },
  {
   "cell_type": "code",
   "execution_count": 11,
   "id": "67fefece",
   "metadata": {},
   "outputs": [
    {
     "data": {
      "text/html": [
       "<div>\n",
       "<style scoped>\n",
       "    .dataframe tbody tr th:only-of-type {\n",
       "        vertical-align: middle;\n",
       "    }\n",
       "\n",
       "    .dataframe tbody tr th {\n",
       "        vertical-align: top;\n",
       "    }\n",
       "\n",
       "    .dataframe thead th {\n",
       "        text-align: right;\n",
       "    }\n",
       "</style>\n",
       "<table border=\"1\" class=\"dataframe\">\n",
       "  <thead>\n",
       "    <tr style=\"text-align: right;\">\n",
       "      <th></th>\n",
       "      <th>id</th>\n",
       "      <th>keyword</th>\n",
       "      <th>location</th>\n",
       "      <th>text</th>\n",
       "      <th>target</th>\n",
       "    </tr>\n",
       "  </thead>\n",
       "  <tbody>\n",
       "    <tr>\n",
       "      <th>4290</th>\n",
       "      <td>6094</td>\n",
       "      <td>hellfire</td>\n",
       "      <td>Jubail IC, Saudi Arabia.</td>\n",
       "      <td>#Allah describes piling up #wealth thinking it...</td>\n",
       "      <td>0</td>\n",
       "    </tr>\n",
       "    <tr>\n",
       "      <th>4299</th>\n",
       "      <td>6105</td>\n",
       "      <td>hellfire</td>\n",
       "      <td>?????? ??? ?????? ????????</td>\n",
       "      <td>#Allah describes piling up #wealth thinking it...</td>\n",
       "      <td>0</td>\n",
       "    </tr>\n",
       "    <tr>\n",
       "      <th>4312</th>\n",
       "      <td>6123</td>\n",
       "      <td>hellfire</td>\n",
       "      <td>?????? ???? ??????</td>\n",
       "      <td>#Allah describes piling up #wealth thinking it...</td>\n",
       "      <td>1</td>\n",
       "    </tr>\n",
       "  </tbody>\n",
       "</table>\n",
       "</div>"
      ],
      "text/plain": [
       "        id   keyword                    location  \\\n",
       "4290  6094  hellfire    Jubail IC, Saudi Arabia.   \n",
       "4299  6105  hellfire  ?????? ??? ?????? ????????   \n",
       "4312  6123  hellfire          ?????? ???? ??????   \n",
       "\n",
       "                                                   text  target  \n",
       "4290  #Allah describes piling up #wealth thinking it...       0  \n",
       "4299  #Allah describes piling up #wealth thinking it...       0  \n",
       "4312  #Allah describes piling up #wealth thinking it...       1  "
      ]
     },
     "execution_count": 11,
     "metadata": {},
     "output_type": "execute_result"
    }
   ],
   "source": [
    "df_train[df_train.text == df_dup.index[0]]"
   ]
  },
  {
   "cell_type": "code",
   "execution_count": 12,
   "id": "ece5bd15",
   "metadata": {},
   "outputs": [
    {
     "data": {
      "text/plain": [
       "143"
      ]
     },
     "execution_count": 12,
     "metadata": {},
     "output_type": "execute_result"
    }
   ],
   "source": [
    "df_train.location.str.contains('\\?').sum()"
   ]
  },
  {
   "cell_type": "code",
   "execution_count": 13,
   "id": "ca3d58aa",
   "metadata": {},
   "outputs": [
    {
     "data": {
      "text/plain": [
       "(7558, 5)"
      ]
     },
     "execution_count": 13,
     "metadata": {},
     "output_type": "execute_result"
    }
   ],
   "source": [
    "df_mislabeled = df_train.groupby(['text']).nunique().sort_values(by='target', ascending=False)\n",
    "df_mislabeled = df_mislabeled[df_mislabeled['target'] > 1]['target']\n",
    "df_train.loc[df_train.text.isin(df_mislabeled.index), 'target'] = np.nan\n",
    "df_train.dropna(subset='target', inplace=True)\n",
    "df_train.shape"
   ]
  },
  {
   "cell_type": "markdown",
   "id": "946cbf94",
   "metadata": {},
   "source": [
    "## Stop words (keep them)"
   ]
  },
  {
   "cell_type": "code",
   "execution_count": 14,
   "id": "28d28b19",
   "metadata": {},
   "outputs": [],
   "source": [
    "# Implementation adapted from [1]\n",
    "stop_words = stopwords.words('english')\n",
    "def remove_stopwords(text):\n",
    "    text = ' '.join(word for word in text.split(' ') if word not in stop_words)\n",
    "    return text\n",
    "#df_train['text_clean'] = df_train['text'].apply(remove_stopwords)\n",
    "df_train['text_clean'] = df_train['text']"
   ]
  },
  {
   "cell_type": "code",
   "execution_count": 15,
   "id": "a76ab4b5",
   "metadata": {},
   "outputs": [
    {
     "data": {
      "text/plain": [
       "'disaster'"
      ]
     },
     "execution_count": 15,
     "metadata": {},
     "output_type": "execute_result"
    }
   ],
   "source": [
    "remove_stopwords('there is no disaster here')"
   ]
  },
  {
   "cell_type": "code",
   "execution_count": 16,
   "id": "ae5dfce3",
   "metadata": {},
   "outputs": [
    {
     "data": {
      "text/plain": [
       "0       Our Deeds are the Reason of this #earthquake M...\n",
       "1                  Forest fire near La Ronge Sask. Canada\n",
       "2       All residents asked to 'shelter in place' are ...\n",
       "3       13,000 people receive #wildfires evacuation or...\n",
       "4       Just got sent this photo from Ruby #Alaska as ...\n",
       "                              ...                        \n",
       "7608    Two giant cranes holding a bridge collapse int...\n",
       "7609    @aria_ahrary @TheTawniest The out of control w...\n",
       "7610    M1.94 [01:04 UTC]?5km S of Volcano Hawaii. htt...\n",
       "7611    Police investigating after an e-bike collided ...\n",
       "7612    The Latest: More Homes Razed by Northern Calif...\n",
       "Name: text_clean, Length: 7558, dtype: object"
      ]
     },
     "execution_count": 16,
     "metadata": {},
     "output_type": "execute_result"
    }
   ],
   "source": [
    "df_train['text_clean']"
   ]
  },
  {
   "cell_type": "markdown",
   "id": "f4a2e7b1",
   "metadata": {},
   "source": [
    "# Step 3: Model Architecture\n",
    "\n",
    "The tweets are sequences of words and therefore recurrent type neural networks are candidate models. Here, bi-directional LSTMs are selected for their proven ability for NLP. Bi-directional LSTMs are more complex and slower than normal LSTM, but have the power to effectively combining LSTMs in forward and backward direction on a sentence enabling a better interpretation of a sentence (see, e.g., [2,3]).\n",
    "\n",
    "The model archiecture is inspired from [2,4], an example in the Keras documentation for sentiment classification on IMDB movie reviews.\n",
    "\n",
    "The model architecture is as follows: Text input -> Vectorize layer with vocabulary fit to training data -> Embedding layer to project the vocabulary indexes (positive integers) to a dense vector of fixed size -> 2 bi-directional LSTM layers -> a fully-connected layer with sigmoid activation for the classification. The vectorizing layer is an important step to decide on the size of the vocabulary and the sequence length to use. Vocabulary size was set to 20,000 from [2,4] while sequence length was limited to 30 considering the short nature of tweets (also see the EDA section above with the word length distributions).\n",
    "\n",
    "Overfitting tendencies were noticed in first runs so regularization was added in form of dropouts (rate 0.6) and a batch normalization before the classifier output layer.\n",
    "\n",
    "Two important design parameters remaining are embedding dimension and the number of LSTM units. These parameters are varied here between two levels and the results are compared. The table below summarizes the alternatives.\n",
    "\n",
    "| Model# | Embed dim | LSTM units | #Param |\n",
    "| -------|----------|-----|------|\n",
    "| 1      | 32  | 32  |   681,697 |\n",
    "| 2      | 64  | 32  | 1,329,921 |\n",
    "| 3      | 32  | 64  |   788,897 |\n",
    "| 4      | 64  | 64  | 1,445,313 |"
   ]
  },
  {
   "cell_type": "code",
   "execution_count": 17,
   "id": "256d07c6",
   "metadata": {},
   "outputs": [
    {
     "name": "stderr",
     "output_type": "stream",
     "text": [
      "2022-09-27 09:26:23.170905: I tensorflow/core/platform/cpu_feature_guard.cc:193] This TensorFlow binary is optimized with oneAPI Deep Neural Network Library (oneDNN) to use the following CPU instructions in performance-critical operations:  AVX2 FMA\n",
      "To enable them in other operations, rebuild TensorFlow with the appropriate compiler flags.\n"
     ]
    },
    {
     "name": "stdout",
     "output_type": "stream",
     "text": [
      "Model: \"model\"\n",
      "_________________________________________________________________\n",
      " Layer (type)                Output Shape              Param #   \n",
      "=================================================================\n",
      " text (InputLayer)           [(None, 1)]               0         \n",
      "                                                                 \n",
      " text_vectorization (TextVec  (None, 30)               0         \n",
      " torization)                                                     \n",
      "                                                                 \n",
      " embedding (Embedding)       (None, 30, 32)            640032    \n",
      "                                                                 \n",
      " bidirectional (Bidirectiona  (None, 30, 64)           16640     \n",
      " l)                                                              \n",
      "                                                                 \n",
      " bidirectional_1 (Bidirectio  (None, 64)               24832     \n",
      " nal)                                                            \n",
      "                                                                 \n",
      " batch_normalization (BatchN  (None, 64)               256       \n",
      " ormalization)                                                   \n",
      "                                                                 \n",
      " dropout (Dropout)           (None, 64)                0         \n",
      "                                                                 \n",
      " dense (Dense)               (None, 1)                 65        \n",
      "                                                                 \n",
      "=================================================================\n",
      "Total params: 681,825\n",
      "Trainable params: 681,697\n",
      "Non-trainable params: 128\n",
      "_________________________________________________________________\n"
     ]
    }
   ],
   "source": [
    "# Vectorizer setup\n",
    "MAX_FEAT = 20000 # Maximum size of the vocabulary\n",
    "SEQ_LEN = 30     # output padded or truncated to exactly SEQ_LEN\n",
    "EMB_DIM = 128//4 # for embedding to dense array in network\n",
    "# Network setup\n",
    "DROPOUT_RATE = 0.6\n",
    "LSTM_UNITS = 64//2\n",
    "\n",
    "#\n",
    "# Vectorizer\n",
    "#\n",
    "vectorize_layer = TextVectorization(\n",
    "    max_tokens = MAX_FEAT,\n",
    "    standardize = 'lower_and_strip_punctuation',\n",
    "    split = 'whitespace',\n",
    "    ngrams = None,\n",
    "    output_mode = 'int',\n",
    "    output_sequence_length = SEQ_LEN,\n",
    ")\n",
    "vectorize_layer.adapt(df_train['text_clean'].values)\n",
    "#vectorize_layer.get_vocabulary()\n",
    "\n",
    "#\n",
    "# Model 1\n",
    "#\n",
    "# Text input\n",
    "inputs = tf.keras.Input(shape=(1,), dtype=tf.string, name='text')\n",
    "# Vectorize\n",
    "x = vectorize_layer(inputs)\n",
    "# Embedding\n",
    "x = layers.Embedding(MAX_FEAT + 1, EMB_DIM)(x)\n",
    "# 2 bidirectional LSTMs\n",
    "x = layers.Bidirectional(layers.LSTM(LSTM_UNITS, return_sequences=True, dropout=DROPOUT_RATE, recurrent_dropout=DROPOUT_RATE))(x)\n",
    "x = layers.Bidirectional(layers.LSTM(LSTM_UNITS, dropout=DROPOUT_RATE, recurrent_dropout=DROPOUT_RATE))(x)\n",
    "x = layers.BatchNormalization()(x)\n",
    "# Classifier\n",
    "x = layers.Dropout(DROPOUT_RATE)(x)\n",
    "outputs = layers.Dense(1, activation='sigmoid')(x)\n",
    "# Complete model\n",
    "model1 = keras.Model(inputs, outputs)\n",
    "model1.summary()"
   ]
  },
  {
   "cell_type": "code",
   "execution_count": 18,
   "id": "3ca91076",
   "metadata": {},
   "outputs": [
    {
     "name": "stdout",
     "output_type": "stream",
     "text": [
      "Model: \"model_1\"\n",
      "_________________________________________________________________\n",
      " Layer (type)                Output Shape              Param #   \n",
      "=================================================================\n",
      " text (InputLayer)           [(None, 1)]               0         \n",
      "                                                                 \n",
      " text_vectorization_1 (TextV  (None, 30)               0         \n",
      " ectorization)                                                   \n",
      "                                                                 \n",
      " embedding_1 (Embedding)     (None, 30, 64)            1280064   \n",
      "                                                                 \n",
      " bidirectional_2 (Bidirectio  (None, 30, 64)           24832     \n",
      " nal)                                                            \n",
      "                                                                 \n",
      " bidirectional_3 (Bidirectio  (None, 64)               24832     \n",
      " nal)                                                            \n",
      "                                                                 \n",
      " batch_normalization_1 (Batc  (None, 64)               256       \n",
      " hNormalization)                                                 \n",
      "                                                                 \n",
      " dropout_1 (Dropout)         (None, 64)                0         \n",
      "                                                                 \n",
      " dense_1 (Dense)             (None, 1)                 65        \n",
      "                                                                 \n",
      "=================================================================\n",
      "Total params: 1,330,049\n",
      "Trainable params: 1,329,921\n",
      "Non-trainable params: 128\n",
      "_________________________________________________________________\n"
     ]
    }
   ],
   "source": [
    "# Vectorizer setup\n",
    "MAX_FEAT = 20000 # Maximum size of the vocabulary\n",
    "SEQ_LEN = 30     # output padded or truncated to exactly SEQ_LEN\n",
    "EMB_DIM = 128//2 # for embedding to dense array in network\n",
    "# Network setup\n",
    "DROPOUT_RATE = 0.6\n",
    "LSTM_UNITS = 64//2\n",
    "\n",
    "#\n",
    "# Vectorizer\n",
    "#\n",
    "vectorize_layer = TextVectorization(\n",
    "    max_tokens = MAX_FEAT,\n",
    "    standardize = 'lower_and_strip_punctuation',\n",
    "    split = 'whitespace',\n",
    "    ngrams = None,\n",
    "    output_mode = 'int',\n",
    "    output_sequence_length = SEQ_LEN,\n",
    ")\n",
    "vectorize_layer.adapt(df_train['text_clean'].values)\n",
    "#vectorize_layer.get_vocabulary()\n",
    "\n",
    "#\n",
    "# Model 2\n",
    "#\n",
    "# Text input\n",
    "inputs = tf.keras.Input(shape=(1,), dtype=tf.string, name='text')\n",
    "# Vectorize\n",
    "x = vectorize_layer(inputs)\n",
    "# Embedding\n",
    "x = layers.Embedding(MAX_FEAT + 1, EMB_DIM)(x)\n",
    "# 2 bidirectional LSTMs\n",
    "x = layers.Bidirectional(layers.LSTM(LSTM_UNITS, return_sequences=True, dropout=DROPOUT_RATE, recurrent_dropout=DROPOUT_RATE))(x)\n",
    "x = layers.Bidirectional(layers.LSTM(LSTM_UNITS, dropout=DROPOUT_RATE, recurrent_dropout=DROPOUT_RATE))(x)\n",
    "x = layers.BatchNormalization()(x)\n",
    "# Classifier\n",
    "x = layers.Dropout(DROPOUT_RATE)(x)\n",
    "outputs = layers.Dense(1, activation='sigmoid')(x)\n",
    "# Complete model\n",
    "model2 = keras.Model(inputs, outputs)\n",
    "model2.summary()"
   ]
  },
  {
   "cell_type": "code",
   "execution_count": 19,
   "id": "25a3e04b",
   "metadata": {},
   "outputs": [
    {
     "name": "stdout",
     "output_type": "stream",
     "text": [
      "Model: \"model_2\"\n",
      "_________________________________________________________________\n",
      " Layer (type)                Output Shape              Param #   \n",
      "=================================================================\n",
      " text (InputLayer)           [(None, 1)]               0         \n",
      "                                                                 \n",
      " text_vectorization_2 (TextV  (None, 30)               0         \n",
      " ectorization)                                                   \n",
      "                                                                 \n",
      " embedding_2 (Embedding)     (None, 30, 32)            640032    \n",
      "                                                                 \n",
      " bidirectional_4 (Bidirectio  (None, 30, 128)          49664     \n",
      " nal)                                                            \n",
      "                                                                 \n",
      " bidirectional_5 (Bidirectio  (None, 128)              98816     \n",
      " nal)                                                            \n",
      "                                                                 \n",
      " batch_normalization_2 (Batc  (None, 128)              512       \n",
      " hNormalization)                                                 \n",
      "                                                                 \n",
      " dropout_2 (Dropout)         (None, 128)               0         \n",
      "                                                                 \n",
      " dense_2 (Dense)             (None, 1)                 129       \n",
      "                                                                 \n",
      "=================================================================\n",
      "Total params: 789,153\n",
      "Trainable params: 788,897\n",
      "Non-trainable params: 256\n",
      "_________________________________________________________________\n"
     ]
    }
   ],
   "source": [
    "# Vectorizer setup\n",
    "MAX_FEAT = 20000 # Maximum size of the vocabulary\n",
    "SEQ_LEN = 30     # output padded or truncated to exactly SEQ_LEN\n",
    "EMB_DIM = 128//4 # for embedding to dense array in network\n",
    "# Network setup\n",
    "DROPOUT_RATE = 0.6\n",
    "LSTM_UNITS = 64\n",
    "\n",
    "#\n",
    "# Vectorizer\n",
    "#\n",
    "vectorize_layer = TextVectorization(\n",
    "    max_tokens = MAX_FEAT,\n",
    "    standardize = 'lower_and_strip_punctuation',\n",
    "    split = 'whitespace',\n",
    "    ngrams = None,\n",
    "    output_mode = 'int',\n",
    "    output_sequence_length = SEQ_LEN,\n",
    ")\n",
    "vectorize_layer.adapt(df_train['text_clean'].values)\n",
    "#vectorize_layer.get_vocabulary()\n",
    "\n",
    "#\n",
    "# Model 3\n",
    "#\n",
    "# Text input\n",
    "inputs = tf.keras.Input(shape=(1,), dtype=tf.string, name='text')\n",
    "# Vectorize\n",
    "x = vectorize_layer(inputs)\n",
    "# Embedding\n",
    "x = layers.Embedding(MAX_FEAT + 1, EMB_DIM)(x)\n",
    "# 2 bidirectional LSTMs\n",
    "x = layers.Bidirectional(layers.LSTM(LSTM_UNITS, return_sequences=True, dropout=DROPOUT_RATE, recurrent_dropout=DROPOUT_RATE))(x)\n",
    "x = layers.Bidirectional(layers.LSTM(LSTM_UNITS, dropout=DROPOUT_RATE, recurrent_dropout=DROPOUT_RATE))(x)\n",
    "x = layers.BatchNormalization()(x)\n",
    "# Classifier\n",
    "x = layers.Dropout(DROPOUT_RATE)(x)\n",
    "outputs = layers.Dense(1, activation='sigmoid')(x)\n",
    "# Complete model\n",
    "model3 = keras.Model(inputs, outputs)\n",
    "model3.summary()"
   ]
  },
  {
   "cell_type": "code",
   "execution_count": 20,
   "id": "a7fab391",
   "metadata": {},
   "outputs": [
    {
     "name": "stdout",
     "output_type": "stream",
     "text": [
      "Model: \"model_3\"\n",
      "_________________________________________________________________\n",
      " Layer (type)                Output Shape              Param #   \n",
      "=================================================================\n",
      " text (InputLayer)           [(None, 1)]               0         \n",
      "                                                                 \n",
      " text_vectorization_3 (TextV  (None, 30)               0         \n",
      " ectorization)                                                   \n",
      "                                                                 \n",
      " embedding_3 (Embedding)     (None, 30, 64)            1280064   \n",
      "                                                                 \n",
      " bidirectional_6 (Bidirectio  (None, 30, 128)          66048     \n",
      " nal)                                                            \n",
      "                                                                 \n",
      " bidirectional_7 (Bidirectio  (None, 128)              98816     \n",
      " nal)                                                            \n",
      "                                                                 \n",
      " batch_normalization_3 (Batc  (None, 128)              512       \n",
      " hNormalization)                                                 \n",
      "                                                                 \n",
      " dropout_3 (Dropout)         (None, 128)               0         \n",
      "                                                                 \n",
      " dense_3 (Dense)             (None, 1)                 129       \n",
      "                                                                 \n",
      "=================================================================\n",
      "Total params: 1,445,569\n",
      "Trainable params: 1,445,313\n",
      "Non-trainable params: 256\n",
      "_________________________________________________________________\n"
     ]
    }
   ],
   "source": [
    "# Vectorizer setup\n",
    "MAX_FEAT = 20000 # Maximum size of the vocabulary\n",
    "SEQ_LEN = 30     # output padded or truncated to exactly SEQ_LEN\n",
    "EMB_DIM = 128//2 # for embedding to dense array in network\n",
    "# Network setup\n",
    "DROPOUT_RATE = 0.6\n",
    "LSTM_UNITS = 64\n",
    "\n",
    "#\n",
    "# Vectorizer\n",
    "#\n",
    "vectorize_layer = TextVectorization(\n",
    "    max_tokens = MAX_FEAT,\n",
    "    standardize = 'lower_and_strip_punctuation',\n",
    "    split = 'whitespace',\n",
    "    ngrams = None,\n",
    "    output_mode = 'int',\n",
    "    output_sequence_length = SEQ_LEN,\n",
    ")\n",
    "vectorize_layer.adapt(df_train['text_clean'].values)\n",
    "#vectorize_layer.get_vocabulary()\n",
    "\n",
    "#\n",
    "# Model 4\n",
    "#\n",
    "# Text input\n",
    "inputs = tf.keras.Input(shape=(1,), dtype=tf.string, name='text')\n",
    "# Vectorize\n",
    "x = vectorize_layer(inputs)\n",
    "# Embedding\n",
    "x = layers.Embedding(MAX_FEAT + 1, EMB_DIM)(x)\n",
    "# 2 bidirectional LSTMs\n",
    "x = layers.Bidirectional(layers.LSTM(LSTM_UNITS, return_sequences=True, dropout=DROPOUT_RATE, recurrent_dropout=DROPOUT_RATE))(x)\n",
    "x = layers.Bidirectional(layers.LSTM(LSTM_UNITS, dropout=DROPOUT_RATE, recurrent_dropout=DROPOUT_RATE))(x)\n",
    "x = layers.BatchNormalization()(x)\n",
    "# Classifier\n",
    "x = layers.Dropout(DROPOUT_RATE)(x)\n",
    "outputs = layers.Dense(1, activation='sigmoid')(x)\n",
    "# Complete model\n",
    "model4 = keras.Model(inputs, outputs)\n",
    "model4.summary()"
   ]
  },
  {
   "cell_type": "markdown",
   "id": "e6380701",
   "metadata": {},
   "source": [
    "# Step 4: Results and Analysis\n",
    "\n",
    "The different architectures are trained and the results are compared. After some playing around with learning rate and epochs, the rate was set at 1e-4 and number of epochs to 8. The entire notebook was also run with removing stop words from the training data and the results were close and slightly lower. For the final results presented here, the stop words are therefore not removed.\n",
    "\n",
    "From the results, presented in below figures, the following observations are made.\n",
    "* The validation accuracy increases up close to 80% and flattens out after 5 epochs for all models, with some variations, where models start to show some  overfitting to varying degrees.\n",
    "* The final valdation accuracy is similar and 79-80% for all models.\n",
    "* The figure of validation accuracy versus number of parameters indicates that the gap between train and validation is similar for model 1 through 3 and larger for model 4, which has the most number of parameters. Model 2 and 3 have the highest validation accuracy but model 3 is relatively simpler with 59% less number of parameters."
   ]
  },
  {
   "cell_type": "code",
   "execution_count": 21,
   "id": "e69869b2",
   "metadata": {},
   "outputs": [],
   "source": [
    "RAND_SEED = 17\n",
    "LEARNING_RATE = 1e-4\n",
    "EPOCHS = 8\n",
    "\n",
    "X = df_train.text_clean\n",
    "y = df_train.target\n",
    "X_train, X_val, y_train, y_val = train_test_split(X, y, test_size=0.2, random_state=RAND_SEED)\n",
    "\n",
    "model1.compile(\n",
    "    optimizer=keras.optimizers.Adam(learning_rate=LEARNING_RATE),\n",
    "    loss=keras.losses.BinaryCrossentropy(),\n",
    "    metrics=[keras.metrics.BinaryAccuracy(name='accuracy')])\n",
    "model2.compile(\n",
    "    optimizer=keras.optimizers.Adam(learning_rate=LEARNING_RATE),\n",
    "    loss=keras.losses.BinaryCrossentropy(),\n",
    "    metrics=[keras.metrics.BinaryAccuracy(name='accuracy')])\n",
    "model3.compile(\n",
    "    optimizer=keras.optimizers.Adam(learning_rate=LEARNING_RATE),\n",
    "    loss=keras.losses.BinaryCrossentropy(),\n",
    "    metrics=[keras.metrics.BinaryAccuracy(name='accuracy')])\n",
    "model4.compile(\n",
    "    optimizer=keras.optimizers.Adam(learning_rate=LEARNING_RATE),\n",
    "    loss=keras.losses.BinaryCrossentropy(),\n",
    "    metrics=[keras.metrics.BinaryAccuracy(name='accuracy')])"
   ]
  },
  {
   "cell_type": "code",
   "execution_count": 22,
   "id": "788599b7",
   "metadata": {},
   "outputs": [
    {
     "name": "stdout",
     "output_type": "stream",
     "text": [
      "Epoch 1/8\n",
      "189/189 [==============================] - 21s 68ms/step - loss: 0.7060 - accuracy: 0.5289 - val_loss: 0.6885 - val_accuracy: 0.5569\n",
      "Epoch 2/8\n",
      "189/189 [==============================] - 12s 63ms/step - loss: 0.6841 - accuracy: 0.5627 - val_loss: 0.6805 - val_accuracy: 0.5582\n",
      "Epoch 3/8\n",
      "189/189 [==============================] - 12s 61ms/step - loss: 0.6507 - accuracy: 0.6206 - val_loss: 0.6408 - val_accuracy: 0.7070\n",
      "Epoch 4/8\n",
      "189/189 [==============================] - 12s 64ms/step - loss: 0.5727 - accuracy: 0.7124 - val_loss: 0.5284 - val_accuracy: 0.7646\n",
      "Epoch 5/8\n",
      "189/189 [==============================] - 12s 62ms/step - loss: 0.4895 - accuracy: 0.7787 - val_loss: 0.5021 - val_accuracy: 0.7679\n",
      "Epoch 6/8\n",
      "189/189 [==============================] - 12s 62ms/step - loss: 0.4263 - accuracy: 0.8179 - val_loss: 0.4705 - val_accuracy: 0.7870\n",
      "Epoch 7/8\n",
      "189/189 [==============================] - 11s 61ms/step - loss: 0.3743 - accuracy: 0.8420 - val_loss: 0.4572 - val_accuracy: 0.7837\n",
      "Epoch 8/8\n",
      "189/189 [==============================] - 11s 60ms/step - loss: 0.3315 - accuracy: 0.8630 - val_loss: 0.4928 - val_accuracy: 0.7884\n"
     ]
    }
   ],
   "source": [
    "model1_out = model1.fit(\n",
    "    x = X_train,\n",
    "    y = y_train,\n",
    "    epochs = EPOCHS,\n",
    "    validation_data = (X_val, y_val))"
   ]
  },
  {
   "cell_type": "code",
   "execution_count": 23,
   "id": "0babbce3",
   "metadata": {},
   "outputs": [
    {
     "name": "stdout",
     "output_type": "stream",
     "text": [
      "Epoch 1/8\n",
      "189/189 [==============================] - 21s 68ms/step - loss: 0.7148 - accuracy: 0.5367 - val_loss: 0.6872 - val_accuracy: 0.5569\n",
      "Epoch 2/8\n",
      "189/189 [==============================] - 12s 64ms/step - loss: 0.6805 - accuracy: 0.5741 - val_loss: 0.6733 - val_accuracy: 0.5787\n",
      "Epoch 3/8\n",
      "189/189 [==============================] - 12s 66ms/step - loss: 0.6200 - accuracy: 0.6550 - val_loss: 0.6147 - val_accuracy: 0.7315\n",
      "Epoch 4/8\n",
      "189/189 [==============================] - 13s 71ms/step - loss: 0.5420 - accuracy: 0.7344 - val_loss: 0.5204 - val_accuracy: 0.7672\n",
      "Epoch 5/8\n",
      "189/189 [==============================] - 13s 70ms/step - loss: 0.4685 - accuracy: 0.7880 - val_loss: 0.4792 - val_accuracy: 0.7864\n",
      "Epoch 6/8\n",
      "189/189 [==============================] - 13s 66ms/step - loss: 0.4159 - accuracy: 0.8243 - val_loss: 0.4711 - val_accuracy: 0.7983\n",
      "Epoch 7/8\n",
      "189/189 [==============================] - 13s 67ms/step - loss: 0.3565 - accuracy: 0.8563 - val_loss: 0.4829 - val_accuracy: 0.7923\n",
      "Epoch 8/8\n",
      "189/189 [==============================] - 13s 66ms/step - loss: 0.3074 - accuracy: 0.8768 - val_loss: 0.4799 - val_accuracy: 0.8009\n"
     ]
    }
   ],
   "source": [
    "model2_out = model2.fit(\n",
    "    x = X_train,\n",
    "    y = y_train,\n",
    "    epochs = EPOCHS,\n",
    "    validation_data = (X_val, y_val))"
   ]
  },
  {
   "cell_type": "code",
   "execution_count": 24,
   "id": "4853c969",
   "metadata": {},
   "outputs": [
    {
     "name": "stdout",
     "output_type": "stream",
     "text": [
      "Epoch 1/8\n",
      "189/189 [==============================] - 21s 70ms/step - loss: 0.7036 - accuracy: 0.5230 - val_loss: 0.6865 - val_accuracy: 0.5569\n",
      "Epoch 2/8\n",
      "189/189 [==============================] - 13s 70ms/step - loss: 0.6713 - accuracy: 0.5782 - val_loss: 0.6732 - val_accuracy: 0.5575\n",
      "Epoch 3/8\n",
      "189/189 [==============================] - 13s 70ms/step - loss: 0.6071 - accuracy: 0.6735 - val_loss: 0.5993 - val_accuracy: 0.7282\n",
      "Epoch 4/8\n",
      "189/189 [==============================] - 13s 70ms/step - loss: 0.5216 - accuracy: 0.7431 - val_loss: 0.5042 - val_accuracy: 0.7685\n",
      "Epoch 5/8\n",
      "189/189 [==============================] - 13s 68ms/step - loss: 0.4525 - accuracy: 0.7969 - val_loss: 0.4792 - val_accuracy: 0.7778\n",
      "Epoch 6/8\n",
      "189/189 [==============================] - 13s 68ms/step - loss: 0.3924 - accuracy: 0.8272 - val_loss: 0.5379 - val_accuracy: 0.7659\n",
      "Epoch 7/8\n",
      "189/189 [==============================] - 13s 68ms/step - loss: 0.3451 - accuracy: 0.8558 - val_loss: 0.4781 - val_accuracy: 0.7897\n",
      "Epoch 8/8\n",
      "189/189 [==============================] - 13s 70ms/step - loss: 0.3063 - accuracy: 0.8791 - val_loss: 0.4898 - val_accuracy: 0.8009\n"
     ]
    }
   ],
   "source": [
    "model3_out = model3.fit(\n",
    "    x = X_train,\n",
    "    y = y_train,\n",
    "    epochs = EPOCHS,\n",
    "    validation_data = (X_val, y_val))"
   ]
  },
  {
   "cell_type": "code",
   "execution_count": 25,
   "id": "74b5b296",
   "metadata": {},
   "outputs": [
    {
     "name": "stdout",
     "output_type": "stream",
     "text": [
      "Epoch 1/8\n",
      "189/189 [==============================] - 22s 74ms/step - loss: 0.7161 - accuracy: 0.5354 - val_loss: 0.6844 - val_accuracy: 0.5569\n",
      "Epoch 2/8\n",
      "189/189 [==============================] - 13s 71ms/step - loss: 0.6655 - accuracy: 0.6037 - val_loss: 0.6606 - val_accuracy: 0.6204\n",
      "Epoch 3/8\n",
      "189/189 [==============================] - 14s 76ms/step - loss: 0.5733 - accuracy: 0.7071 - val_loss: 0.5619 - val_accuracy: 0.7685\n",
      "Epoch 4/8\n",
      "189/189 [==============================] - 14s 75ms/step - loss: 0.4802 - accuracy: 0.7812 - val_loss: 0.4774 - val_accuracy: 0.7831\n",
      "Epoch 5/8\n",
      "189/189 [==============================] - 14s 73ms/step - loss: 0.4222 - accuracy: 0.8159 - val_loss: 0.4581 - val_accuracy: 0.7837\n",
      "Epoch 6/8\n",
      "189/189 [==============================] - 14s 76ms/step - loss: 0.3649 - accuracy: 0.8477 - val_loss: 0.4554 - val_accuracy: 0.7956\n",
      "Epoch 7/8\n",
      "189/189 [==============================] - 14s 75ms/step - loss: 0.3041 - accuracy: 0.8707 - val_loss: 0.4813 - val_accuracy: 0.7917\n",
      "Epoch 8/8\n",
      "189/189 [==============================] - 14s 73ms/step - loss: 0.2639 - accuracy: 0.8950 - val_loss: 0.5194 - val_accuracy: 0.7910\n"
     ]
    }
   ],
   "source": [
    "model4_out = model4.fit(\n",
    "    x = X_train,\n",
    "    y = y_train,\n",
    "    epochs = EPOCHS,\n",
    "    validation_data = (X_val, y_val))"
   ]
  },
  {
   "cell_type": "code",
   "execution_count": 26,
   "id": "c6cf2d8b",
   "metadata": {},
   "outputs": [
    {
     "data": {
      "image/png": "[encoded data removed]",
      "text/plain": [
       "<Figure size 1152x864 with 4 Axes>"
      ]
     },
     "metadata": {
      "needs_background": "light"
     },
     "output_type": "display_data"
    }
   ],
   "source": [
    "f,ax = plt.subplots(nrows=2, ncols=2, sharex=True, sharey=True, figsize=(16,12))\n",
    "ax = ax.flatten()\n",
    "for k in model1_out.history.keys():\n",
    "    ax[0].plot(model1_out.history[k],'o-', label=k)\n",
    "ax[0].set_title(f'Model 1'); \n",
    "for k in model2_out.history.keys():\n",
    "    ax[1].plot(model2_out.history[k],'o-', label=k)\n",
    "ax[1].set_title(f'Model 2');\n",
    "for k in model3_out.history.keys():\n",
    "    ax[2].plot(model3_out.history[k],'o-', label=k)\n",
    "ax[2].set_title(f'Model 3');\n",
    "for k in model4_out.history.keys():\n",
    "    ax[3].plot(model4_out.history[k],'o-', label=k)\n",
    "ax[3].set_title(f'Model 4');\n",
    "\n",
    "ax[2].set_xlabel('epoch')\n",
    "ax[3].set_xlabel('epoch')\n",
    "for a in ax:\n",
    "    a.legend()\n",
    "    a.grid()"
   ]
  },
  {
   "cell_type": "code",
   "execution_count": 27,
   "id": "325b8195",
   "metadata": {},
   "outputs": [
    {
     "data": {
      "text/html": [
       "<div>\n",
       "<style scoped>\n",
       "    .dataframe tbody tr th:only-of-type {\n",
       "        vertical-align: middle;\n",
       "    }\n",
       "\n",
       "    .dataframe tbody tr th {\n",
       "        vertical-align: top;\n",
       "    }\n",
       "\n",
       "    .dataframe thead th {\n",
       "        text-align: right;\n",
       "    }\n",
       "</style>\n",
       "<table border=\"1\" class=\"dataframe\">\n",
       "  <thead>\n",
       "    <tr style=\"text-align: right;\">\n",
       "      <th></th>\n",
       "      <th>no_param</th>\n",
       "      <th>train_accuracy_pct</th>\n",
       "      <th>val_accuracy_pct</th>\n",
       "    </tr>\n",
       "  </thead>\n",
       "  <tbody>\n",
       "    <tr>\n",
       "      <th>0</th>\n",
       "      <td>681697</td>\n",
       "      <td>0.863050</td>\n",
       "      <td>0.788360</td>\n",
       "    </tr>\n",
       "    <tr>\n",
       "      <th>1</th>\n",
       "      <td>1329921</td>\n",
       "      <td>0.876778</td>\n",
       "      <td>0.800926</td>\n",
       "    </tr>\n",
       "    <tr>\n",
       "      <th>2</th>\n",
       "      <td>788897</td>\n",
       "      <td>0.879094</td>\n",
       "      <td>0.800926</td>\n",
       "    </tr>\n",
       "    <tr>\n",
       "      <th>3</th>\n",
       "      <td>1445313</td>\n",
       "      <td>0.894972</td>\n",
       "      <td>0.791005</td>\n",
       "    </tr>\n",
       "  </tbody>\n",
       "</table>\n",
       "</div>"
      ],
      "text/plain": [
       "   no_param  train_accuracy_pct  val_accuracy_pct\n",
       "0    681697            0.863050          0.788360\n",
       "1   1329921            0.876778          0.800926\n",
       "2    788897            0.879094          0.800926\n",
       "3   1445313            0.894972          0.791005"
      ]
     },
     "execution_count": 27,
     "metadata": {},
     "output_type": "execute_result"
    },
    {
     "data": {
      "image/png": "[encoded data removed]",
      "text/plain": [
       "<Figure size 432x288 with 1 Axes>"
      ]
     },
     "metadata": {
      "needs_background": "light"
     },
     "output_type": "display_data"
    }
   ],
   "source": [
    "no_param = [keras.utils.layer_utils.count_params(x.trainable_weights) for x in [model1,model2,model3,model4]]\n",
    "train_accuracy = [x.history['accuracy'][-1] for x in [model1_out,model2_out,model3_out,model4_out]]\n",
    "val_accuracy = [x.history['val_accuracy'][-1] for x in [model1_out,model2_out,model3_out,model4_out]]\n",
    "plt.plot(no_param, train_accuracy , 'o', label='training')\n",
    "plt.plot(no_param, val_accuracy , 'o', label='validation')\n",
    "plt.xlabel('# param'); plt.ylabel('accuracy')\n",
    "plt.legend(); plt.grid();\n",
    "pd.DataFrame({'no_param': no_param, 'train_accuracy_pct': train_accuracy,'val_accuracy_pct': val_accuracy})"
   ]
  },
  {
   "cell_type": "markdown",
   "id": "27ef82b1",
   "metadata": {},
   "source": [
    "# Step 5: Conclusion\n",
    "\n",
    "The results are summarized in the figures above and the table below.\n",
    "\n",
    "| Model# | Embed dim | LSTM units | #Param | Val accuracy % |\n",
    "| -------|----------|-----|-----|--------|\n",
    "| 1      | 32  | 32  |   681,697 | 78.9\n",
    "| 2      | 64  | 32  | 1,329,921 | 80.0\n",
    "| 3      | 32  | 64  |   788,897 | 80.0\n",
    "| 4      | 64  | 64  | 1,445,313 | 79.1\n",
    "\n",
    "\n",
    "The input data may be further cleaned and preprocessed. A number of possible cleaning steps were mentioned above. Additional alternatives (architectures) and further fine-tuning of hyper parameters may improve the results further. With the relatively small training data set, there may be a limit to the size of the models that may be trained from scratch. Transfer learning may therefore be an interesting avenue of further exploration (there are several Kaggle articles on this topic).\n",
    "\n",
    "Model 3 was chosen in the end due to high validation accuracy and relatively fewer parameters (and smaller gap between training and validation scores) than model 2 with similar accuracy. The Kaggle score came back at 0.793."
   ]
  },
  {
   "cell_type": "markdown",
   "id": "2f14ec4a",
   "metadata": {},
   "source": [
    "## Make predictions on test data"
   ]
  },
  {
   "cell_type": "code",
   "execution_count": 28,
   "id": "90bd6753",
   "metadata": {},
   "outputs": [
    {
     "name": "stdout",
     "output_type": "stream",
     "text": [
      "102/102 [==============================] - 2s 9ms/step\n"
     ]
    }
   ],
   "source": [
    "pred_prob  = model3.predict(df_test.text).flatten()\n",
    "pred_label = np.where(pred_prob > 0.5, 1, 0)"
   ]
  },
  {
   "cell_type": "code",
   "execution_count": 29,
   "id": "9528db89",
   "metadata": {},
   "outputs": [
    {
     "data": {
      "text/plain": [
       "[0.3714729, 1069, 2194]"
      ]
     },
     "execution_count": 29,
     "metadata": {},
     "output_type": "execute_result"
    }
   ],
   "source": [
    "[pred_prob.mean(), pred_label.sum(), len(pred_label) - pred_label.sum()]"
   ]
  },
  {
   "cell_type": "code",
   "execution_count": 30,
   "id": "7d07dbbc",
   "metadata": {},
   "outputs": [
    {
     "data": {
      "text/html": [
       "<div>\n",
       "<style scoped>\n",
       "    .dataframe tbody tr th:only-of-type {\n",
       "        vertical-align: middle;\n",
       "    }\n",
       "\n",
       "    .dataframe tbody tr th {\n",
       "        vertical-align: top;\n",
       "    }\n",
       "\n",
       "    .dataframe thead th {\n",
       "        text-align: right;\n",
       "    }\n",
       "</style>\n",
       "<table border=\"1\" class=\"dataframe\">\n",
       "  <thead>\n",
       "    <tr style=\"text-align: right;\">\n",
       "      <th></th>\n",
       "      <th>target</th>\n",
       "    </tr>\n",
       "    <tr>\n",
       "      <th>id</th>\n",
       "      <th></th>\n",
       "    </tr>\n",
       "  </thead>\n",
       "  <tbody>\n",
       "    <tr>\n",
       "      <th>0</th>\n",
       "      <td>0</td>\n",
       "    </tr>\n",
       "    <tr>\n",
       "      <th>2</th>\n",
       "      <td>0</td>\n",
       "    </tr>\n",
       "    <tr>\n",
       "      <th>3</th>\n",
       "      <td>1</td>\n",
       "    </tr>\n",
       "    <tr>\n",
       "      <th>9</th>\n",
       "      <td>1</td>\n",
       "    </tr>\n",
       "    <tr>\n",
       "      <th>11</th>\n",
       "      <td>1</td>\n",
       "    </tr>\n",
       "    <tr>\n",
       "      <th>...</th>\n",
       "      <td>...</td>\n",
       "    </tr>\n",
       "    <tr>\n",
       "      <th>10861</th>\n",
       "      <td>1</td>\n",
       "    </tr>\n",
       "    <tr>\n",
       "      <th>10865</th>\n",
       "      <td>1</td>\n",
       "    </tr>\n",
       "    <tr>\n",
       "      <th>10868</th>\n",
       "      <td>1</td>\n",
       "    </tr>\n",
       "    <tr>\n",
       "      <th>10874</th>\n",
       "      <td>1</td>\n",
       "    </tr>\n",
       "    <tr>\n",
       "      <th>10875</th>\n",
       "      <td>1</td>\n",
       "    </tr>\n",
       "  </tbody>\n",
       "</table>\n",
       "<p>3263 rows × 1 columns</p>\n",
       "</div>"
      ],
      "text/plain": [
       "       target\n",
       "id           \n",
       "0           0\n",
       "2           0\n",
       "3           1\n",
       "9           1\n",
       "11          1\n",
       "...       ...\n",
       "10861       1\n",
       "10865       1\n",
       "10868       1\n",
       "10874       1\n",
       "10875       1\n",
       "\n",
       "[3263 rows x 1 columns]"
      ]
     },
     "execution_count": 30,
     "metadata": {},
     "output_type": "execute_result"
    }
   ],
   "source": [
    "df_sub = pd.DataFrame({'id': df_test.id, 'target': pred_label}).set_index('id')\n",
    "df_sub.to_csv('submission.csv', index=True)\n",
    "df_sub"
   ]
  },
  {
   "cell_type": "markdown",
   "id": "e6a5495a",
   "metadata": {},
   "source": [
    "# 6. References\n",
    "1. https://www.kaggle.com/code/andreshg/nlp-glove-bert-tf-idf-lstm-explained\n",
    "2. https://keras.io/examples/nlp/bidirectional_lstm_imdb/\n",
    "3. https://www.baeldung.com/cs/bidirectional-vs-unidirectional-lstm\n",
    "4. https://keras.io/examples/nlp/text_classification_from_scratch/"
   ]
  },
  {
   "cell_type": "code",
   "execution_count": null,
   "id": "eb7e0f27",
   "metadata": {},
   "outputs": [],
   "source": []
  }
 ],
 "metadata": {
  "kernelspec": {
   "display_name": "Python 3 (ipykernel)",
   "language": "python",
   "name": "python3"
  },
  "language_info": {
   "codemirror_mode": {
    "name": "ipython",
    "version": 3
   },
   "file_extension": ".py",
   "mimetype": "text/x-python",
   "name": "python",
   "nbconvert_exporter": "python",
   "pygments_lexer": "ipython3",
   "version": "3.8.10"
  }
 },
 "nbformat": 4,
 "nbformat_minor": 5
}
